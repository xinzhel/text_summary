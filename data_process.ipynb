{
 "cells": [
  {
   "cell_type": "code",
   "execution_count": null,
   "metadata": {},
   "outputs": [],
   "source": [
    "import matplotlib.pyplot as plt\n",
    "import numpy as np"
   ]
  },
  {
   "attachments": {},
   "cell_type": "markdown",
   "metadata": {},
   "source": [
    "## ArXiv (no categories)"
   ]
  },
  {
   "cell_type": "code",
   "execution_count": null,
   "metadata": {},
   "outputs": [],
   "source": [
    "## Query Categories for All Papers\n",
    "# i = 5\n",
    "# inp_path = '../arxiv-dataset/train' + str(i) +  '.txt'\n",
    "# with open(inp_path, \"r\") as f:\n",
    "#     lines = f.readlines()\n",
    "# print(len(lines))\n",
    "\n",
    "# def query_domain(arxiv_id):\n",
    "#     # arxiv_id = \"1810.04805\"\n",
    "#     url = f'http://export.arxiv.org/api/query?id_list={arxiv_id}'\n",
    "#     response = requests.get(url)\n",
    "#     root = ET.fromstring(response.text)\n",
    "#     categories = [cat.attrib['term'] for cat in root.iter('{http://www.w3.org/2005/Atom}category')]\n",
    "#     return categories\n",
    "# only_cat = []\n",
    "# for line in lines[2002:]:\n",
    "#     paper = json.loads(line)\n",
    "#     time.sleep(0.01)\n",
    "#     paper['categories'] = query_domain(paper[\"article_id\"])\n",
    "#     only_cat.append(paper['categories'])\n",
    "# ids_for_cats = { 'cs': [], 'eco': [], 'eess': [], 'math': [], 'physics': [], 'q-bio': [], 'q-fin': [], 'stat': []}\n",
    "# for i, cat in enumerate(only_cat):\n",
    "#     if ' '.join(cat).startswith('cs'):\n",
    "#         ids_for_cats['cs'].append(i)\n",
    "#     if ' '.join(cat).startswith('eco'):\n",
    "#         ids_for_cats['eco'].append(i)\n",
    "#     if ' '.join(cat).startswith('eess'):\n",
    "#         ids_for_cats['eess'].append(i)\n",
    "#     if ' '.join(cat).startswith('math'):\n",
    "#         ids_for_cats['math'].append(i)\n",
    "#     if ' '.join(cat).startswith('physics'):\n",
    "#         ids_for_cats['physics'].append(i)\n",
    "#     if ' '.join(cat).startswith('q-bio'):\n",
    "#         ids_for_cats['q-bio'].append(i)\n",
    "#     if ' '.join(cat).startswith('q-fin'):\n",
    "#         ids_for_cats['q-fin'].append(i)\n",
    "#     if ' '.join(cat).startswith('stat'):\n",
    "#         ids_for_cats['stat'].append(i)\n",
    "\n",
    "# with open('ids_for_cats.pickle', 'rb') as handle:\n",
    "#     ids_for_cats2 = pickle.load(handle)\n",
    "# length1 = len([ele for lst in ids_for_cats2.values() for ele in lst ])\n",
    "# length2 = len([ele for lst in ids_for_cats.values() for ele in lst ])\n",
    "# for k in  ids_for_cats2:\n",
    "#     ids_for_cats2[k] = ids_for_cats2[k] + ids_for_cats[k]\n",
    "# length3 = len([ele for lst in ids_for_cats2.values() for ele in lst ])\n",
    "# assert length3 == length1 + length2\n",
    "\n",
    "# with open('ids_for_cats.pickle', 'wb') as handle:\n",
    "#     pickle.dump(ids_for_cats2, handle, protocol=pickle.HIGHEST_PROTOCOL)\n",
    "\n",
    "# print(len(only_cat))\n",
    "\n",
    "# total = 0\n",
    "# for domain, idx in ids_for_cats2.items():\n",
    "#     total += len(idx)\n",
    "#     print(domain, len(idx))\n",
    "# print(total)"
   ]
  },
  {
   "attachments": {},
   "cell_type": "markdown",
   "metadata": {},
   "source": [
    "## Cornell Arxiv"
   ]
  },
  {
   "cell_type": "code",
   "execution_count": 1,
   "metadata": {},
   "outputs": [],
   "source": [
    "import json\n"
   ]
  },
  {
   "cell_type": "code",
   "execution_count": 37,
   "metadata": {},
   "outputs": [],
   "source": [
    "# read data/arxiv-metadata-oai-snapshot.json\n",
    "arxiv_cscl = []\n",
    "i = 0\n",
    "with open('data/arxiv-metadata-oai-snapshot.json', 'r') as f:\n",
    "    for line in f:\n",
    "        paper = json.loads(line)\n",
    "        if 'cs.CL' in paper['categories']:\n",
    "            arxiv_cscl.append( [paper['id'],  paper['categories'], paper['journal-ref'], paper['title'], paper['abstract']] )\n",
    "     \n",
    "\n",
    "# save to data/arxiv_cscl.json\n",
    "with open('data/arxiv_cscl.json', 'w') as f: \n",
    "    json.dump(arxiv_cscl, f)\n",
    "\n"
   ]
  },
  {
   "cell_type": "code",
   "execution_count": 38,
   "metadata": {},
   "outputs": [
    {
     "name": "stdout",
     "output_type": "stream",
     "text": [
      "44408\n"
     ]
    }
   ],
   "source": [
    "print(len(arxiv_cscl)) # 44408"
   ]
  },
  {
   "cell_type": "code",
   "execution_count": 39,
   "metadata": {},
   "outputs": [
    {
     "data": {
      "image/png": "[encoded data removed]",
      "text/plain": [
       "<Figure size 640x480 with 1 Axes>"
      ]
     },
     "metadata": {},
     "output_type": "display_data"
    },
    {
     "name": "stdout",
     "output_type": "stream",
     "text": [
      "The number of papers in 12-12:  3266\n"
     ]
    }
   ],
   "source": [
    "def select_papers(cornell_papers, min_year=12, max_year=12):\n",
    "    # show years distribution\n",
    "    years = [paper[0][2:4] for paper in cornell_papers]\n",
    "    years_int = []\n",
    "    for year in years:\n",
    "        try:\n",
    "            years_int.append(int(year))\n",
    "        except:\n",
    "            pass\n",
    "\n",
    "    plt.hist(years_int, )\n",
    "    plt.show()\n",
    "\n",
    "    # select papers\n",
    "    selected_i = []\n",
    "    for i, year in enumerate(years):\n",
    "        try:\n",
    "            if int(year) >= min_year and int(year) <= max_year:\n",
    "                selected_i.append(i)\n",
    "        except:\n",
    "            pass\n",
    "    select_papers = [cornell_papers[i] for i in selected_i]\n",
    "    print(f'The number of papers in {min_year}-{max_year}: ', len(select_papers)) \n",
    "    return select_papers\n",
    "\n",
    "# select papers in 2012-2012\n",
    "arxiv_cscl_12 = select_papers(arxiv_cscl, 12, 12)"
   ]
  },
  {
   "cell_type": "code",
   "execution_count": 64,
   "metadata": {},
   "outputs": [],
   "source": [
    "def sample_papers(papers, N = 100):\n",
    "    # randomly generate N papers\n",
    "    np.random.seed(0)\n",
    "    selected_ids = np.random.choice(len(papers), N, replace=False)\n",
    "    # selected_ids = sorted(selected_ids)\n",
    "    selected_papers = [papers[i] for i in selected_ids]\n",
    "    # check titles\n",
    "    titles = [p[3] for p in selected_papers]\n",
    "    # abstracts = [p[4] for p in selected_papers]\n",
    "    # for i, (title, abs) in enumerate(zip(titles, abstracts)):\n",
    "    #     print(i, title, '\\n', abs)\n",
    "    # for i, title in enumerate(titles):\n",
    "    #     print(i, title,)\n",
    "    return selected_papers\n",
    "\n",
    "# sample 100 papers\n",
    "arxiv_cscl_12_100 = sample_papers(arxiv_cscl_12, 100)\n",
    "\n",
    "# a list of dictionary to csv\n",
    "import pandas as pd\n",
    "df = pd.DataFrame(arxiv_cscl_12_100, columns=['id', 'categories', 'journal-ref', 'title', 'abstract'])\n",
    "\n"
   ]
  },
  {
   "cell_type": "code",
   "execution_count": 69,
   "metadata": {},
   "outputs": [],
   "source": [
    "# sentence segmentation\n",
    "import spacy\n",
    "nlp = spacy.load(\"en_core_web_sm\")\n",
    "segmented_sents = []\n",
    "for abstract in df['abstract']:\n",
    "    doc = nlp(abstract)\n",
    "    segmented_sents.append(' '.join([f'<{i}> '+sent.text.strip()+ f' </{i}>' for i, sent in enumerate(doc.sents)]))\n",
    "df['segmented_sents'] = segmented_sents\n",
    "\n",
    "\n",
    "    "
   ]
  },
  {
   "cell_type": "code",
   "execution_count": 73,
   "metadata": {},
   "outputs": [],
   "source": [
    "# save to csv\n",
    "df[['title', 'abstract', 'segmented_sents']].to_csv('data/arxiv_cscl_12_100.csv', index=False)"
   ]
  }
 ],
 "metadata": {
  "kernelspec": {
   "display_name": "baseline",
   "language": "python",
   "name": "python3"
  },
  "language_info": {
   "codemirror_mode": {
    "name": "ipython",
    "version": 3
   },
   "file_extension": ".py",
   "mimetype": "text/x-python",
   "name": "python",
   "nbconvert_exporter": "python",
   "pygments_lexer": "ipython3",
   "version": "3.7.9"
  },
  "orig_nbformat": 4,
  "vscode": {
   "interpreter": {
    "hash": "fa722aa51baa7ca1a14ae10c51947100c8742c9283df2adfc9442d206b591bbe"
   }
  }
 },
 "nbformat": 4,
 "nbformat_minor": 2
}
