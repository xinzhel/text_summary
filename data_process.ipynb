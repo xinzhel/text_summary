{
 "cells": [
  {
   "attachments": {},
   "cell_type": "markdown",
   "metadata": {},
   "source": [
    "## ArXiv (no categories)"
   ]
  },
  {
   "cell_type": "code",
   "execution_count": null,
   "metadata": {},
   "outputs": [],
   "source": [
    "## Query Categories for All Papers\n",
    "# i = 5\n",
    "# inp_path = '../arxiv-dataset/train' + str(i) +  '.txt'\n",
    "# with open(inp_path, \"r\") as f:\n",
    "#     lines = f.readlines()\n",
    "# print(len(lines))\n",
    "\n",
    "# def query_domain(arxiv_id):\n",
    "#     # arxiv_id = \"1810.04805\"\n",
    "#     url = f'http://export.arxiv.org/api/query?id_list={arxiv_id}'\n",
    "#     response = requests.get(url)\n",
    "#     root = ET.fromstring(response.text)\n",
    "#     categories = [cat.attrib['term'] for cat in root.iter('{http://www.w3.org/2005/Atom}category')]\n",
    "#     return categories\n",
    "# only_cat = []\n",
    "# for line in lines[2002:]:\n",
    "#     paper = json.loads(line)\n",
    "#     time.sleep(0.01)\n",
    "#     paper['categories'] = query_domain(paper[\"article_id\"])\n",
    "#     only_cat.append(paper['categories'])\n",
    "# ids_for_cats = { 'cs': [], 'eco': [], 'eess': [], 'math': [], 'physics': [], 'q-bio': [], 'q-fin': [], 'stat': []}\n",
    "# for i, cat in enumerate(only_cat):\n",
    "#     if ' '.join(cat).startswith('cs'):\n",
    "#         ids_for_cats['cs'].append(i)\n",
    "#     if ' '.join(cat).startswith('eco'):\n",
    "#         ids_for_cats['eco'].append(i)\n",
    "#     if ' '.join(cat).startswith('eess'):\n",
    "#         ids_for_cats['eess'].append(i)\n",
    "#     if ' '.join(cat).startswith('math'):\n",
    "#         ids_for_cats['math'].append(i)\n",
    "#     if ' '.join(cat).startswith('physics'):\n",
    "#         ids_for_cats['physics'].append(i)\n",
    "#     if ' '.join(cat).startswith('q-bio'):\n",
    "#         ids_for_cats['q-bio'].append(i)\n",
    "#     if ' '.join(cat).startswith('q-fin'):\n",
    "#         ids_for_cats['q-fin'].append(i)\n",
    "#     if ' '.join(cat).startswith('stat'):\n",
    "#         ids_for_cats['stat'].append(i)\n",
    "\n",
    "# with open('ids_for_cats.pickle', 'rb') as handle:\n",
    "#     ids_for_cats2 = pickle.load(handle)\n",
    "# length1 = len([ele for lst in ids_for_cats2.values() for ele in lst ])\n",
    "# length2 = len([ele for lst in ids_for_cats.values() for ele in lst ])\n",
    "# for k in  ids_for_cats2:\n",
    "#     ids_for_cats2[k] = ids_for_cats2[k] + ids_for_cats[k]\n",
    "# length3 = len([ele for lst in ids_for_cats2.values() for ele in lst ])\n",
    "# assert length3 == length1 + length2\n",
    "\n",
    "# with open('ids_for_cats.pickle', 'wb') as handle:\n",
    "#     pickle.dump(ids_for_cats2, handle, protocol=pickle.HIGHEST_PROTOCOL)\n",
    "\n",
    "# print(len(only_cat))\n",
    "\n",
    "# total = 0\n",
    "# for domain, idx in ids_for_cats2.items():\n",
    "#     total += len(idx)\n",
    "#     print(domain, len(idx))\n",
    "# print(total)"
   ]
  },
  {
   "cell_type": "markdown",
   "metadata": {},
   "source": [
    "## Cornell Arxiv"
   ]
  },
  {
   "cell_type": "code",
   "execution_count": null,
   "metadata": {},
   "outputs": [],
   "source": [
    "import json\n",
    "# load json file\n",
    "with open('data/arxiv-metadata-oai-snapshot.json', 'r') as f:\n",
    "    data = json.load(f)\n",
    "\n"
   ]
  },
  {
   "cell_type": "code",
   "execution_count": null,
   "metadata": {},
   "outputs": [],
   "source": [
    "# read data/arxiv-metadata-oai-snapshot.json\n",
    "arxiv_papers = []\n",
    "with open('data/arxiv-metadata-oai-snapshot.json', 'r') as f:\n",
    "    for line in f:\n",
    "        paper = json.loads(line)\n",
    "        print(paper.keys())\n",
    "        print(paper['categories'], )\n",
    "        # print(paper['id'],  paper['categories'], paper['title'], paper['abstract'])"
   ]
  }
 ],
 "metadata": {
  "kernelspec": {
   "display_name": "baseline",
   "language": "python",
   "name": "python3"
  },
  "language_info": {
   "name": "python",
   "version": "3.7.9 (default, Aug 31 2020, 12:42:55) \n[GCC 7.3.0]"
  },
  "orig_nbformat": 4,
  "vscode": {
   "interpreter": {
    "hash": "fa722aa51baa7ca1a14ae10c51947100c8742c9283df2adfc9442d206b591bbe"
   }
  }
 },
 "nbformat": 4,
 "nbformat_minor": 2
}
