{
 "cells": [
  {
   "cell_type": "code",
   "execution_count": 85,
   "metadata": {},
   "outputs": [],
   "source": [
    "# merge all the files with the affix \".xlsx\" in the current folder into one file\n",
    "\n",
    "import pandas as pd\n",
    "import os\n"
   ]
  },
  {
   "cell_type": "code",
   "execution_count": 87,
   "metadata": {},
   "outputs": [],
   "source": []
  },
  {
   "cell_type": "code",
   "execution_count": 114,
   "metadata": {},
   "outputs": [
    {
     "name": "stdout",
     "output_type": "stream",
     "text": [
      "40\n"
     ]
    }
   ],
   "source": [
    "def aggregate_abstracts(FILE_NAME):\n",
    "    # read the merged dataframe\n",
    "    df = pd.read_excel(FILE_NAME)\n",
    "    # print the number of rows in the merged dataframe\n",
    "    print(len(df))\n",
    "    \n",
    "    # print(df.columns)\n",
    "    # print(df.head())\n",
    "    if len(df.columns) == 9:\n",
    "        df.columns = ['article_id', 'abstract', 'Background', 'Purpose', 'Method', 'Result', 'Conclusions', 'Limitation', 'Others']\n",
    "    if len(df.columns) == 14:\n",
    "        df.columns = ['dataset_type', 'row_id', 'article_id', 'category', 'abstract', 'Background', 'Purpose', 'Method', 'Result', 'Conclusions', 'Limitation', 'Others',  'Errors', 'TooLong']\n",
    "        assert len(df.columns) == 14\n",
    "\n",
    "    \n",
    "    abstracts = {}\n",
    "    facets_for_abstracts = {}\n",
    "    for row in df.iterrows():\n",
    "        # split the abstract into sentences according to the tages <S0>, <S1>, <S2>, ...\n",
    "        sentences =  row[1]['abstract'].split(\"<S\")[1:]        \n",
    "        sentences = [sentence[sentence.find(\">\")+1:] for sentence in sentences] # get the content of each sentence\n",
    "        sentences = [sentence[:sentence.find(\"</S\")] for sentence in sentences] # remove the tags </S0>, </S1>, </S2>, ...\n",
    "\n",
    "        # extract facet for each sentence\n",
    "        facets = [None] * len(sentences)\n",
    "        for i in range(len(sentences)):\n",
    "            identifier = 'S'+str(i)\n",
    "            for tag in [ 'Background', 'Purpose', 'Method', 'Result', 'Conclusions', 'Limitation', 'Others']:\n",
    "                sent_ids = row[1][tag]\n",
    "                if type(sent_ids) == float:\n",
    "                    continue\n",
    "                if identifier in sent_ids:\n",
    "                    if facets[i] == None:\n",
    "                        facets[i] = [tag]\n",
    "                    else:\n",
    "                        facets[i].append(tag)\n",
    "            if facets[i] == None:\n",
    "                facets[i] = [\"Others\"]\n",
    "                    \n",
    "\n",
    "        abstracts[str(row[1]['article_id'])] = sentences\n",
    "        facets_for_abstracts[str(row[1]['article_id'])] = facets\n",
    "    return abstracts, facets_for_abstracts\n",
    "\n",
    "\n",
    "abstracts, facets_for_abstracts = aggregate_abstracts(\"test.xlsx\")"
   ]
  },
  {
   "cell_type": "code",
   "execution_count": 116,
   "metadata": {},
   "outputs": [
    {
     "data": {
      "text/plain": [
       "{'1801.07358': [['Background', 'Purpose'],\n",
       "  ['Method'],\n",
       "  ['Result', 'Conclusions']],\n",
       " '1108.2937': [['Background'],\n",
       "  ['Background'],\n",
       "  ['Limitation'],\n",
       "  ['Purpose', 'Method'],\n",
       "  ['Method'],\n",
       "  ['Result', 'Conclusions'],\n",
       "  ['Others']],\n",
       " '1502.00882': [['Background'],\n",
       "  ['Background', 'Limitation'],\n",
       "  ['Background', 'Purpose'],\n",
       "  ['Method', 'Result'],\n",
       "  ['Method', 'Result'],\n",
       "  ['Result', 'Conclusions'],\n",
       "  ['Result', 'Conclusions']],\n",
       " '1408.1268': [['Background', 'Purpose', 'Method', 'Conclusions'],\n",
       "  ['Others'],\n",
       "  ['Method'],\n",
       "  ['Result'],\n",
       "  ['Limitation'],\n",
       "  ['Result'],\n",
       "  ['Result']],\n",
       " '1701.03364': [['Others'],\n",
       "  ['Others'],\n",
       "  ['Others'],\n",
       "  ['Others'],\n",
       "  ['Others'],\n",
       "  ['Others'],\n",
       "  ['Others']],\n",
       " '1001.1013': [['Background', 'Purpose'],\n",
       "  ['Method'],\n",
       "  ['Method'],\n",
       "  ['Method'],\n",
       "  ['Method'],\n",
       "  ['Result'],\n",
       "  ['Result'],\n",
       "  ['Conclusions']],\n",
       " '1610.02979': [['Background', 'Purpose'],\n",
       "  ['Method', 'Result', 'Conclusions']],\n",
       " '1601.0577': [['Background'],\n",
       "  ['Purpose', 'Limitation'],\n",
       "  ['Method', 'Result', 'Conclusions']],\n",
       " '1503.07621': [['Background', 'Purpose'],\n",
       "  ['Limitation'],\n",
       "  ['Limitation'],\n",
       "  ['Method', 'Result', 'Conclusions']],\n",
       " '1610.06709': [['Background'],\n",
       "  ['Limitation'],\n",
       "  ['Purpose', 'Method', 'Result', 'Conclusions'],\n",
       "  ['Others'],\n",
       "  ['Others'],\n",
       "  ['Conclusions'],\n",
       "  ['Conclusions'],\n",
       "  ['Others']]}"
      ]
     },
     "execution_count": 116,
     "metadata": {},
     "output_type": "execute_result"
    }
   ],
   "source": [
    "facets_for_abstracts"
   ]
  },
  {
   "cell_type": "code",
   "execution_count": 102,
   "metadata": {},
   "outputs": [],
   "source": [
    "# save to json file\n",
    "import json\n",
    "with open('cs_abstracts.json', 'w') as fp:\n",
    "    json.dump(abstracts, fp)\n",
    "\n",
    "with open('cs_facets.json', 'w') as fp:\n",
    "    json.dump(facets_for_abstracts, fp)"
   ]
  },
  {
   "cell_type": "code",
   "execution_count": 101,
   "metadata": {},
   "outputs": [
    {
     "data": {
      "text/plain": [
       "500"
      ]
     },
     "execution_count": 101,
     "metadata": {},
     "output_type": "execute_result"
    }
   ],
   "source": [
    "len(facets_for_abstracts)"
   ]
  }
 ],
 "metadata": {
  "kernelspec": {
   "display_name": "base",
   "language": "python",
   "name": "python3"
  },
  "language_info": {
   "codemirror_mode": {
    "name": "ipython",
    "version": 3
   },
   "file_extension": ".py",
   "mimetype": "text/x-python",
   "name": "python",
   "nbconvert_exporter": "python",
   "pygments_lexer": "ipython3",
   "version": "3.8.13"
  },
  "orig_nbformat": 4
 },
 "nbformat": 4,
 "nbformat_minor": 2
}
